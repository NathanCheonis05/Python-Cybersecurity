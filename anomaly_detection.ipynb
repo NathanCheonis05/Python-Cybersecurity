{
 "cells": [
  {
   "cell_type": "markdown",
   "metadata": {},
   "source": [
    "# First Anomaly Detection Program\n",
    "\n",
    "This is going to be my first program in Python that is dedicated towards anomaly detection and how it works. I will be testing out a variety of algorithms using the `pyod` library that has multiple algorithms dedicated for anomaly detection, outlier detection, and novelty detection. \n",
    "\n",
    "I will be working with the following libraries:\n",
    "\n",
    " - `PyOD`\n",
    " - `Pandas`\n",
    " - `Scikit-Learn`\n",
    " - `Matplotlib`\n",
    " - `Plotly`\n",
    "\n",
    " I will now start by importing the libraries.\n",
    "\n",
    " ### :)"
   ]
  }
 ],
 "metadata": {
  "language_info": {
   "name": "python"
  }
 },
 "nbformat": 4,
 "nbformat_minor": 2
}
