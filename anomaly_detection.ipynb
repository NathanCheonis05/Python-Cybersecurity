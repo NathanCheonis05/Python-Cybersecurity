{
 "cells": [
  {
   "cell_type": "markdown",
   "metadata": {},
   "source": [
    "# First Anomaly Detection Program\n",
    "\n",
    "This is going to be my first program in Python that is dedicated towards anomaly detection and how it works. I will be testing out a variety of algorithms using the `pyod` library that has multiple algorithms dedicated for anomaly detection, outlier detection, and novelty detection. \n",
    "\n",
    "I will be working with the following libraries:\n",
    "\n",
    " - `PyOD`\n",
    " - `Pandas`\n",
    " - `Scikit-Learn`\n",
    " - `Matplotlib`\n",
    " - `Plotly`\n",
    " - `NumPy`\n",
    " - `AutoClean`\n",
    "\n",
    " I will now start by importing the libraries.\n",
    "\n",
    " ### :)"
   ]
  },
  {
   "cell_type": "code",
   "execution_count": 1,
   "metadata": {},
   "outputs": [],
   "source": [
    "# importing the libraries\n",
    "\n",
    "import pandas as pd\n",
    "import plotly.express as px\n",
    "import matplotlib.pyplot as plt\n",
    "import autoclean as ac\n",
    "from sklearn.model_selection import train_test_split, GridSearchCV\n",
    "from sklearn.pipeline import Pipeline\n",
    "from sklearn.preprocessing import StandardScaler, MinMaxScaler\n",
    "from sklearn.metrics import f1_score, roc_auc_score"
   ]
  }
 ],
 "metadata": {
  "kernelspec": {
   "display_name": "Python 3",
   "language": "python",
   "name": "python3"
  },
  "language_info": {
   "codemirror_mode": {
    "name": "ipython",
    "version": 3
   },
   "file_extension": ".py",
   "mimetype": "text/x-python",
   "name": "python",
   "nbconvert_exporter": "python",
   "pygments_lexer": "ipython3",
   "version": "3.12.2"
  }
 },
 "nbformat": 4,
 "nbformat_minor": 2
}
